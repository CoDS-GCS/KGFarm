{
 "cells": [
  {
   "cell_type": "markdown",
   "metadata": {},
   "source": [
    "# <b>KGFarm</b><br>\n",
    "##### <b>A Feature Discovery system for Machine learning workflow</b>"
   ]
  },
  {
   "cell_type": "code",
   "execution_count": 1,
   "metadata": {
    "pycharm": {
     "name": "#%%\n"
    }
   },
   "outputs": [
    {
     "name": "stdout",
     "output_type": "stream",
     "text": [
      "connected to http://localhost:9999/blazegraph/namespace/glac/sparql\n"
     ]
    }
   ],
   "source": [
    "from feature_discovery.src.api.api import KGFarm\n",
    "kgfarm = KGFarm()"
   ]
  },
  {
   "cell_type": "markdown",
   "metadata": {},
   "source": [
    "#### <b>Using KGlac for discovery operations</b>"
   ]
  },
  {
   "cell_type": "code",
   "execution_count": 2,
   "metadata": {
    "pycharm": {
     "name": "#%%\n"
    }
   },
   "outputs": [],
   "source": [
    "import os\n",
    "import sys\n",
    "import pandas as pd\n",
    "sys.path.append('../data_discovery/knowledge_graph/src/')\n",
    "from api.api import *\n",
    "from storage.kglac_client import KGLacClient\n",
    "from storage.elasticsearch_client import ElasticsearchClient\n",
    "kglac = API(ElasticsearchClient(), KGLacClient('glac')) "
   ]
  },
  {
   "cell_type": "code",
   "execution_count": 3,
   "metadata": {},
   "outputs": [
    {
     "data": {
      "text/plain": "                    db_name                   column_name\n0  Retail Banking-demo-data         completedacct.parquet\n1  Retail Banking-demo-data         completedcard.parquet\n2  Retail Banking-demo-data       completedclient.parquet\n3  Retail Banking-demo-data  completeddisposition.parquet\n4  Retail Banking-demo-data     completeddistrict.parquet\n5  Retail Banking-demo-data         completedloan.parquet\n6  Retail Banking-demo-data        completedorder.parquet\n7  Retail Banking-demo-data           crm_reviews.parquet\n8  Retail Banking-demo-data   luxuryloanportfolio.parquet",
      "text/html": "<div>\n<style scoped>\n    .dataframe tbody tr th:only-of-type {\n        vertical-align: middle;\n    }\n\n    .dataframe tbody tr th {\n        vertical-align: top;\n    }\n\n    .dataframe thead th {\n        text-align: right;\n    }\n</style>\n<table border=\"1\" class=\"dataframe\">\n  <thead>\n    <tr style=\"text-align: right;\">\n      <th></th>\n      <th>db_name</th>\n      <th>column_name</th>\n    </tr>\n  </thead>\n  <tbody>\n    <tr>\n      <th>0</th>\n      <td>Retail Banking-demo-data</td>\n      <td>completedacct.parquet</td>\n    </tr>\n    <tr>\n      <th>1</th>\n      <td>Retail Banking-demo-data</td>\n      <td>completedcard.parquet</td>\n    </tr>\n    <tr>\n      <th>2</th>\n      <td>Retail Banking-demo-data</td>\n      <td>completedclient.parquet</td>\n    </tr>\n    <tr>\n      <th>3</th>\n      <td>Retail Banking-demo-data</td>\n      <td>completeddisposition.parquet</td>\n    </tr>\n    <tr>\n      <th>4</th>\n      <td>Retail Banking-demo-data</td>\n      <td>completeddistrict.parquet</td>\n    </tr>\n    <tr>\n      <th>5</th>\n      <td>Retail Banking-demo-data</td>\n      <td>completedloan.parquet</td>\n    </tr>\n    <tr>\n      <th>6</th>\n      <td>Retail Banking-demo-data</td>\n      <td>completedorder.parquet</td>\n    </tr>\n    <tr>\n      <th>7</th>\n      <td>Retail Banking-demo-data</td>\n      <td>crm_reviews.parquet</td>\n    </tr>\n    <tr>\n      <th>8</th>\n      <td>Retail Banking-demo-data</td>\n      <td>luxuryloanportfolio.parquet</td>\n    </tr>\n  </tbody>\n</table>\n</div>"
     },
     "execution_count": 3,
     "metadata": {},
     "output_type": "execute_result"
    }
   ],
   "source": [
    "kglac.get_all_tables()"
   ]
  },
  {
   "cell_type": "code",
   "execution_count": 4,
   "metadata": {},
   "outputs": [
    {
     "data": {
      "text/plain": "                  table_name              dataset_name origin  \\\n0    completedclient.parquet  Retail Banking-demo-data   mock   \n1      completedacct.parquet  Retail Banking-demo-data   mock   \n2        crm_reviews.parquet  Retail Banking-demo-data   mock   \n3  completeddistrict.parquet  Retail Banking-demo-data   mock   \n\n   number_of_columns  number_of_rows  \\\n0               21.0          5369.0   \n1                9.0          4500.0   \n2                6.0           505.0   \n3                7.0            77.0   \n\n                                                path  \n0  /Users/shubhamvashisth/Documents/CoDS/projects...  \n1  /Users/shubhamvashisth/Documents/CoDS/projects...  \n2  /Users/shubhamvashisth/Documents/CoDS/projects...  \n3  /Users/shubhamvashisth/Documents/CoDS/projects...  ",
      "text/html": "<div>\n<style scoped>\n    .dataframe tbody tr th:only-of-type {\n        vertical-align: middle;\n    }\n\n    .dataframe tbody tr th {\n        vertical-align: top;\n    }\n\n    .dataframe thead th {\n        text-align: right;\n    }\n</style>\n<table border=\"1\" class=\"dataframe\">\n  <thead>\n    <tr style=\"text-align: right;\">\n      <th></th>\n      <th>table_name</th>\n      <th>dataset_name</th>\n      <th>origin</th>\n      <th>number_of_columns</th>\n      <th>number_of_rows</th>\n      <th>path</th>\n    </tr>\n  </thead>\n  <tbody>\n    <tr>\n      <th>0</th>\n      <td>completedclient.parquet</td>\n      <td>Retail Banking-demo-data</td>\n      <td>mock</td>\n      <td>21.0</td>\n      <td>5369.0</td>\n      <td>/Users/shubhamvashisth/Documents/CoDS/projects...</td>\n    </tr>\n    <tr>\n      <th>1</th>\n      <td>completedacct.parquet</td>\n      <td>Retail Banking-demo-data</td>\n      <td>mock</td>\n      <td>9.0</td>\n      <td>4500.0</td>\n      <td>/Users/shubhamvashisth/Documents/CoDS/projects...</td>\n    </tr>\n    <tr>\n      <th>2</th>\n      <td>crm_reviews.parquet</td>\n      <td>Retail Banking-demo-data</td>\n      <td>mock</td>\n      <td>6.0</td>\n      <td>505.0</td>\n      <td>/Users/shubhamvashisth/Documents/CoDS/projects...</td>\n    </tr>\n    <tr>\n      <th>3</th>\n      <td>completeddistrict.parquet</td>\n      <td>Retail Banking-demo-data</td>\n      <td>mock</td>\n      <td>7.0</td>\n      <td>77.0</td>\n      <td>/Users/shubhamvashisth/Documents/CoDS/projects...</td>\n    </tr>\n  </tbody>\n</table>\n</div>"
     },
     "execution_count": 4,
     "metadata": {},
     "output_type": "execute_result"
    }
   ],
   "source": [
    "df = kglac.search_tables_on([['district']])\n",
    "df"
   ]
  },
  {
   "cell_type": "markdown",
   "metadata": {},
   "source": [
    "#### <b>Predicting Feast's Entites and Feature Views using KGFarm</b>"
   ]
  },
  {
   "cell_type": "code",
   "execution_count": 5,
   "metadata": {},
   "outputs": [
    {
     "name": "stdout",
     "output_type": "stream",
     "text": [
      "Predicted entities and feature view(s) File saved at:  /Users/shubhamvashisth/Documents/CoDS/projects/KGFarm/feature_repo/predicted_register.py\n",
      "\n",
      "Showing predicted Feature views:\n"
     ]
    },
    {
     "data": {
      "text/plain": "     Feature_view       Entity Entity_data_type                    FileSource  \\\n0  feature_view_1  district_id            INT64           crm_reviews.parquet   \n1  feature_view_2   account_id           STRING  completeddisposition.parquet   \n2  feature_view_3   account_id           STRING        completedorder.parquet   \n\n              Joinable_table  \\\n0  completeddistrict.parquet   \n1      completedacct.parquet   \n2      completedacct.parquet   \n\n                                     FileSource_path  \n0  /Users/shubhamvashisth/Documents/CoDS/projects...  \n1  /Users/shubhamvashisth/Documents/CoDS/projects...  \n2  /Users/shubhamvashisth/Documents/CoDS/projects...  ",
      "text/html": "<div>\n<style scoped>\n    .dataframe tbody tr th:only-of-type {\n        vertical-align: middle;\n    }\n\n    .dataframe tbody tr th {\n        vertical-align: top;\n    }\n\n    .dataframe thead th {\n        text-align: right;\n    }\n</style>\n<table border=\"1\" class=\"dataframe\">\n  <thead>\n    <tr style=\"text-align: right;\">\n      <th></th>\n      <th>Feature_view</th>\n      <th>Entity</th>\n      <th>Entity_data_type</th>\n      <th>FileSource</th>\n      <th>Joinable_table</th>\n      <th>FileSource_path</th>\n    </tr>\n  </thead>\n  <tbody>\n    <tr>\n      <th>0</th>\n      <td>feature_view_1</td>\n      <td>district_id</td>\n      <td>INT64</td>\n      <td>crm_reviews.parquet</td>\n      <td>completeddistrict.parquet</td>\n      <td>/Users/shubhamvashisth/Documents/CoDS/projects...</td>\n    </tr>\n    <tr>\n      <th>1</th>\n      <td>feature_view_2</td>\n      <td>account_id</td>\n      <td>STRING</td>\n      <td>completeddisposition.parquet</td>\n      <td>completedacct.parquet</td>\n      <td>/Users/shubhamvashisth/Documents/CoDS/projects...</td>\n    </tr>\n    <tr>\n      <th>2</th>\n      <td>feature_view_3</td>\n      <td>account_id</td>\n      <td>STRING</td>\n      <td>completedorder.parquet</td>\n      <td>completedacct.parquet</td>\n      <td>/Users/shubhamvashisth/Documents/CoDS/projects...</td>\n    </tr>\n  </tbody>\n</table>\n</div>"
     },
     "execution_count": 5,
     "metadata": {},
     "output_type": "execute_result"
    }
   ],
   "source": [
    "# 1. To see the predicted feature views in df format use show_feature_view param = True\n",
    "# 2. To change feature repo use path_to_feature_repo param\n",
    "\n",
    "kgfarm.predict_entities_and_feature_views(ttl=1000, show_feature_views=True)"
   ]
  },
  {
   "cell_type": "code",
   "execution_count": 6,
   "metadata": {},
   "outputs": [
    {
     "data": {
      "image/svg+xml": "<?xml version=\"1.0\" encoding=\"UTF-8\" standalone=\"no\"?>\n<!DOCTYPE svg PUBLIC \"-//W3C//DTD SVG 1.1//EN\"\n \"http://www.w3.org/Graphics/SVG/1.1/DTD/svg11.dtd\">\n<!-- Generated by graphviz version 2.50.0 (20211204.2007)\n -->\n<!-- Pages: 1 -->\n<svg width=\"371pt\" height=\"349pt\"\n viewBox=\"0.00 0.00 371.00 349.00\" xmlns=\"http://www.w3.org/2000/svg\" xmlns:xlink=\"http://www.w3.org/1999/xlink\">\n<g id=\"graph0\" class=\"graph\" transform=\"scale(1 1) rotate(0) translate(4 345)\">\n<polygon fill=\"white\" stroke=\"transparent\" points=\"-4,4 -4,-345 367,-345 367,4 -4,4\"/>\n<text text-anchor=\"middle\" x=\"181.5\" y=\"-7.8\" font-family=\"Times,serif\" font-size=\"14.00\">Paths between starting nodes in blue and target nodes in orange</text>\n<!-- 2520520579 -->\n<g id=\"node1\" class=\"node\">\n<title>2520520579</title>\n<ellipse fill=\"#b2dfee\" stroke=\"black\" cx=\"166.95\" cy=\"-323\" rx=\"46.29\" ry=\"18\"/>\n<text text-anchor=\"middle\" x=\"166.95\" y=\"-319.3\" font-family=\"Times,serif\" font-size=\"14.00\">district_id</text>\n</g>\n<!-- 2598426755 -->\n<g id=\"node2\" class=\"node\">\n<title>2598426755</title>\n<ellipse fill=\"#b2dfee\" stroke=\"black\" cx=\"120.95\" cy=\"-182\" rx=\"85.29\" ry=\"18\"/>\n<text text-anchor=\"middle\" x=\"120.95\" y=\"-178.3\" font-family=\"Times,serif\" font-size=\"14.00\">crm_reviews.parquet</text>\n</g>\n<!-- 2520520579&#45;&gt;2598426755 -->\n<g id=\"edge1\" class=\"edge\">\n<title>2520520579&#45;&gt;2598426755</title>\n<path fill=\"none\" stroke=\"black\" d=\"M158.62,-305.12C155.99,-299.44 153.18,-293.01 150.95,-287 141.46,-261.37 133.07,-231.3 127.59,-210.1\"/>\n<polygon fill=\"black\" stroke=\"black\" points=\"130.93,-209.01 125.07,-200.18 124.14,-210.74 130.93,-209.01\"/>\n<text text-anchor=\"middle\" x=\"168.95\" y=\"-275.8\" font-family=\"Times,serif\" font-size=\"14.00\">partOf</text>\n</g>\n<!-- 2555139503 -->\n<g id=\"node4\" class=\"node\">\n<title>2555139503</title>\n<ellipse fill=\"#cd6600\" stroke=\"black\" cx=\"219.95\" cy=\"-236\" rx=\"46.29\" ry=\"18\"/>\n<text text-anchor=\"middle\" x=\"219.95\" y=\"-232.3\" font-family=\"Times,serif\" font-size=\"14.00\">district_id</text>\n</g>\n<!-- 2520520579&#45;&gt;2555139503 -->\n<g id=\"edge5\" class=\"edge\">\n<title>2520520579&#45;&gt;2555139503</title>\n<path fill=\"none\" stroke=\"black\" d=\"M177.42,-305.21C186.71,-290.31 200.22,-268.65 209.5,-253.76\"/>\n<text text-anchor=\"middle\" x=\"216.45\" y=\"-275.8\" font-family=\"Times,serif\" font-size=\"14.00\">similar</text>\n</g>\n<!-- 865156131 -->\n<g id=\"node3\" class=\"node\">\n<title>865156131</title>\n<ellipse fill=\"#b2dfee\" stroke=\"black\" cx=\"113.95\" cy=\"-41\" rx=\"104.78\" ry=\"18\"/>\n<text text-anchor=\"middle\" x=\"113.95\" y=\"-37.3\" font-family=\"Times,serif\" font-size=\"14.00\">Retail Banking&#45;demo&#45;data</text>\n</g>\n<!-- 2598426755&#45;&gt;865156131 -->\n<g id=\"edge2\" class=\"edge\">\n<title>2598426755&#45;&gt;865156131</title>\n<path fill=\"none\" stroke=\"black\" d=\"M112.62,-163.95C110.31,-158.36 108.11,-152.04 106.95,-146 101.97,-120.16 104.91,-90.11 108.37,-68.98\"/>\n<polygon fill=\"black\" stroke=\"black\" points=\"111.83,-69.56 110.14,-59.1 104.94,-68.33 111.83,-69.56\"/>\n<text text-anchor=\"middle\" x=\"124.95\" y=\"-124.3\" font-family=\"Times,serif\" font-size=\"14.00\">partOf</text>\n</g>\n<!-- 2700756418 -->\n<g id=\"node5\" class=\"node\">\n<title>2700756418</title>\n<ellipse fill=\"#cd6600\" stroke=\"black\" cx=\"252.95\" cy=\"-128\" rx=\"100.98\" ry=\"18\"/>\n<text text-anchor=\"middle\" x=\"252.95\" y=\"-124.3\" font-family=\"Times,serif\" font-size=\"14.00\">completeddistrict.parquet</text>\n</g>\n<!-- 2555139503&#45;&gt;2700756418 -->\n<g id=\"edge3\" class=\"edge\">\n<title>2555139503&#45;&gt;2700756418</title>\n<path fill=\"none\" stroke=\"black\" d=\"M225.25,-217.97C230.5,-201.12 238.6,-175.1 244.69,-155.54\"/>\n<polygon fill=\"black\" stroke=\"black\" points=\"248.03,-156.58 247.66,-145.99 241.35,-154.5 248.03,-156.58\"/>\n<text text-anchor=\"middle\" x=\"258.95\" y=\"-178.3\" font-family=\"Times,serif\" font-size=\"14.00\">partOf</text>\n</g>\n<!-- 2700756418&#45;&gt;865156131 -->\n<g id=\"edge4\" class=\"edge\">\n<title>2700756418&#45;&gt;865156131</title>\n<path fill=\"none\" stroke=\"black\" d=\"M226.15,-110.61C204.46,-97.35 173.72,-78.55 149.9,-63.98\"/>\n<polygon fill=\"black\" stroke=\"black\" points=\"151.5,-60.86 141.14,-58.63 147.85,-66.83 151.5,-60.86\"/>\n<text text-anchor=\"middle\" x=\"209.95\" y=\"-80.8\" font-family=\"Times,serif\" font-size=\"14.00\">partOf</text>\n</g>\n</g>\n</svg>\n",
      "text/plain": "<graphviz.graphs.Digraph at 0x7fc4125b0fd0>"
     },
     "execution_count": 6,
     "metadata": {},
     "output_type": "execute_result"
    }
   ],
   "source": [
    "kglac.get_path_between_tables(df.iloc[2], df.iloc[3], hops=1)"
   ]
  },
  {
   "cell_type": "code",
   "execution_count": 7,
   "metadata": {},
   "outputs": [
    {
     "data": {
      "text/plain": "    district_id           city      state_name state_abbrev     region  \\\n0             1  New York City        New York           NY  Northeast   \n1             2   Jacksonville         Florida           FL      South   \n2             3       Columbus            Ohio           OH    Midwest   \n3             4      Charlotte  North Carolina           NC      South   \n4             5   Indianapolis         Indiana           IN  Northeast   \n..          ...            ...             ...          ...        ...   \n72           73    New Britain     Connecticut           CT  Northeast   \n73           74        Chicago        Illinois           IL  Northeast   \n74           75      Rochester        New York           NY  Northeast   \n75           76        Yonkers        New York           NY  Northeast   \n76           77       Syracuse        New York           NY  Northeast   \n\n              division                  timestamp  \n0      Middle Atlantic 2022-04-02 21:46:04.955818  \n1       South Atlantic 2022-04-02 21:46:04.955818  \n2   East North Central 2022-04-02 21:46:04.955818  \n3       South Atlantic 2022-04-02 21:46:04.955818  \n4   East North Central 2022-04-02 21:46:04.955818  \n..                 ...                        ...  \n72         New England 2022-04-02 21:46:04.955818  \n73  East North Central 2022-04-02 21:46:04.955818  \n74     Middle Atlantic 2022-04-02 21:46:04.955818  \n75     Middle Atlantic 2022-04-02 21:46:04.955818  \n76     Middle Atlantic 2022-04-02 21:46:04.955818  \n\n[77 rows x 7 columns]",
      "text/html": "<div>\n<style scoped>\n    .dataframe tbody tr th:only-of-type {\n        vertical-align: middle;\n    }\n\n    .dataframe tbody tr th {\n        vertical-align: top;\n    }\n\n    .dataframe thead th {\n        text-align: right;\n    }\n</style>\n<table border=\"1\" class=\"dataframe\">\n  <thead>\n    <tr style=\"text-align: right;\">\n      <th></th>\n      <th>district_id</th>\n      <th>city</th>\n      <th>state_name</th>\n      <th>state_abbrev</th>\n      <th>region</th>\n      <th>division</th>\n      <th>timestamp</th>\n    </tr>\n  </thead>\n  <tbody>\n    <tr>\n      <th>0</th>\n      <td>1</td>\n      <td>New York City</td>\n      <td>New York</td>\n      <td>NY</td>\n      <td>Northeast</td>\n      <td>Middle Atlantic</td>\n      <td>2022-04-02 21:46:04.955818</td>\n    </tr>\n    <tr>\n      <th>1</th>\n      <td>2</td>\n      <td>Jacksonville</td>\n      <td>Florida</td>\n      <td>FL</td>\n      <td>South</td>\n      <td>South Atlantic</td>\n      <td>2022-04-02 21:46:04.955818</td>\n    </tr>\n    <tr>\n      <th>2</th>\n      <td>3</td>\n      <td>Columbus</td>\n      <td>Ohio</td>\n      <td>OH</td>\n      <td>Midwest</td>\n      <td>East North Central</td>\n      <td>2022-04-02 21:46:04.955818</td>\n    </tr>\n    <tr>\n      <th>3</th>\n      <td>4</td>\n      <td>Charlotte</td>\n      <td>North Carolina</td>\n      <td>NC</td>\n      <td>South</td>\n      <td>South Atlantic</td>\n      <td>2022-04-02 21:46:04.955818</td>\n    </tr>\n    <tr>\n      <th>4</th>\n      <td>5</td>\n      <td>Indianapolis</td>\n      <td>Indiana</td>\n      <td>IN</td>\n      <td>Northeast</td>\n      <td>East North Central</td>\n      <td>2022-04-02 21:46:04.955818</td>\n    </tr>\n    <tr>\n      <th>...</th>\n      <td>...</td>\n      <td>...</td>\n      <td>...</td>\n      <td>...</td>\n      <td>...</td>\n      <td>...</td>\n      <td>...</td>\n    </tr>\n    <tr>\n      <th>72</th>\n      <td>73</td>\n      <td>New Britain</td>\n      <td>Connecticut</td>\n      <td>CT</td>\n      <td>Northeast</td>\n      <td>New England</td>\n      <td>2022-04-02 21:46:04.955818</td>\n    </tr>\n    <tr>\n      <th>73</th>\n      <td>74</td>\n      <td>Chicago</td>\n      <td>Illinois</td>\n      <td>IL</td>\n      <td>Northeast</td>\n      <td>East North Central</td>\n      <td>2022-04-02 21:46:04.955818</td>\n    </tr>\n    <tr>\n      <th>74</th>\n      <td>75</td>\n      <td>Rochester</td>\n      <td>New York</td>\n      <td>NY</td>\n      <td>Northeast</td>\n      <td>Middle Atlantic</td>\n      <td>2022-04-02 21:46:04.955818</td>\n    </tr>\n    <tr>\n      <th>75</th>\n      <td>76</td>\n      <td>Yonkers</td>\n      <td>New York</td>\n      <td>NY</td>\n      <td>Northeast</td>\n      <td>Middle Atlantic</td>\n      <td>2022-04-02 21:46:04.955818</td>\n    </tr>\n    <tr>\n      <th>76</th>\n      <td>77</td>\n      <td>Syracuse</td>\n      <td>New York</td>\n      <td>NY</td>\n      <td>Northeast</td>\n      <td>Middle Atlantic</td>\n      <td>2022-04-02 21:46:04.955818</td>\n    </tr>\n  </tbody>\n</table>\n<p>77 rows × 7 columns</p>\n</div>"
     },
     "execution_count": 7,
     "metadata": {},
     "output_type": "execute_result"
    }
   ],
   "source": [
    "df1 = pd.read_parquet(df.iloc[3].path)\n",
    "df1"
   ]
  },
  {
   "cell_type": "code",
   "execution_count": 8,
   "metadata": {},
   "outputs": [],
   "source": [
    "from feast import FeatureStore"
   ]
  },
  {
   "cell_type": "code",
   "execution_count": 9,
   "metadata": {},
   "outputs": [
    {
     "name": "stdout",
     "output_type": "stream",
     "text": [
      "Using timestamp as the event timestamp. To specify a column explicitly, please name it event_timestamp.\n"
     ]
    },
    {
     "data": {
      "text/plain": "     district_id         city     state_name state_abbrev     region  \\\n338           54      Houston          Texas           TX      South   \n333           53     Hartford    Connecticut           CT  Northeast   \n329           52    New Haven    Connecticut           CT  Northeast   \n323           51  Springfield  Massachusetts           MA  Northeast   \n362           59       Quincy  Massachusetts           MA  Northeast   \n..           ...          ...            ...          ...        ...   \n165           27  San Antonio          Texas           TX      South   \n161           26     Honolulu         Hawaii           HI       West   \n159           25      Wichita         Kansas           KS    Midwest   \n172           28    Anchorage         Alaska           AK       West   \n504           77     Syracuse       New York           NY  Northeast   \n\n               division                        timestamp  \\\n338  West South Central 2022-04-02 21:46:04.955818+00:00   \n333         New England 2022-04-02 21:46:04.955818+00:00   \n329         New England 2022-04-02 21:46:04.955818+00:00   \n323         New England 2022-04-02 21:46:04.955818+00:00   \n362         New England 2022-04-02 21:46:04.955818+00:00   \n..                  ...                              ...   \n165  West South Central 2022-04-02 21:46:04.955818+00:00   \n161             Pacific 2022-04-02 21:46:04.955818+00:00   \n159  West North Central 2022-04-02 21:46:04.955818+00:00   \n172             Pacific 2022-04-02 21:46:04.955818+00:00   \n504     Middle Atlantic 2022-04-02 21:46:04.955818+00:00   \n\n                     product        date  \\\n338      Eagle National Bank  2017-05-24   \n333      Eagle National Bank  2016-07-18   \n329      Eagle National Bank  2017-10-02   \n323  Eagle National Mortgage  2016-05-20   \n362            Eagle Capital  2017-04-10   \n..                       ...         ...   \n165      Eagle National Bank  2017-12-24   \n161            Eagle Capital  2013-02-04   \n159  Eagle National Mortgage  2014-10-10   \n172            Eagle Capital  2016-01-23   \n504      Eagle National Bank  2019-06-12   \n\n                                               reviews  stars  \n338  Working with Jon was such an amazing experienc...      5  \n333  Adam was great to work with during our refi! H...      5  \n329  Started refinance with Nick things were going ...      1  \n323                                               None      5  \n362  \\nVery receptive\\nThorough\\nQuick to close\\n  ...      5  \n..                                                 ...    ...  \n165  Our loan officer was happy to communicate befo...      1  \n161                                               None      1  \n159                                               None      5  \n172                                               None      5  \n504                                               None      1  \n\n[77 rows x 11 columns]",
      "text/html": "<div>\n<style scoped>\n    .dataframe tbody tr th:only-of-type {\n        vertical-align: middle;\n    }\n\n    .dataframe tbody tr th {\n        vertical-align: top;\n    }\n\n    .dataframe thead th {\n        text-align: right;\n    }\n</style>\n<table border=\"1\" class=\"dataframe\">\n  <thead>\n    <tr style=\"text-align: right;\">\n      <th></th>\n      <th>district_id</th>\n      <th>city</th>\n      <th>state_name</th>\n      <th>state_abbrev</th>\n      <th>region</th>\n      <th>division</th>\n      <th>timestamp</th>\n      <th>product</th>\n      <th>date</th>\n      <th>reviews</th>\n      <th>stars</th>\n    </tr>\n  </thead>\n  <tbody>\n    <tr>\n      <th>338</th>\n      <td>54</td>\n      <td>Houston</td>\n      <td>Texas</td>\n      <td>TX</td>\n      <td>South</td>\n      <td>West South Central</td>\n      <td>2022-04-02 21:46:04.955818+00:00</td>\n      <td>Eagle National Bank</td>\n      <td>2017-05-24</td>\n      <td>Working with Jon was such an amazing experienc...</td>\n      <td>5</td>\n    </tr>\n    <tr>\n      <th>333</th>\n      <td>53</td>\n      <td>Hartford</td>\n      <td>Connecticut</td>\n      <td>CT</td>\n      <td>Northeast</td>\n      <td>New England</td>\n      <td>2022-04-02 21:46:04.955818+00:00</td>\n      <td>Eagle National Bank</td>\n      <td>2016-07-18</td>\n      <td>Adam was great to work with during our refi! H...</td>\n      <td>5</td>\n    </tr>\n    <tr>\n      <th>329</th>\n      <td>52</td>\n      <td>New Haven</td>\n      <td>Connecticut</td>\n      <td>CT</td>\n      <td>Northeast</td>\n      <td>New England</td>\n      <td>2022-04-02 21:46:04.955818+00:00</td>\n      <td>Eagle National Bank</td>\n      <td>2017-10-02</td>\n      <td>Started refinance with Nick things were going ...</td>\n      <td>1</td>\n    </tr>\n    <tr>\n      <th>323</th>\n      <td>51</td>\n      <td>Springfield</td>\n      <td>Massachusetts</td>\n      <td>MA</td>\n      <td>Northeast</td>\n      <td>New England</td>\n      <td>2022-04-02 21:46:04.955818+00:00</td>\n      <td>Eagle National Mortgage</td>\n      <td>2016-05-20</td>\n      <td>None</td>\n      <td>5</td>\n    </tr>\n    <tr>\n      <th>362</th>\n      <td>59</td>\n      <td>Quincy</td>\n      <td>Massachusetts</td>\n      <td>MA</td>\n      <td>Northeast</td>\n      <td>New England</td>\n      <td>2022-04-02 21:46:04.955818+00:00</td>\n      <td>Eagle Capital</td>\n      <td>2017-04-10</td>\n      <td>\\nVery receptive\\nThorough\\nQuick to close\\n  ...</td>\n      <td>5</td>\n    </tr>\n    <tr>\n      <th>...</th>\n      <td>...</td>\n      <td>...</td>\n      <td>...</td>\n      <td>...</td>\n      <td>...</td>\n      <td>...</td>\n      <td>...</td>\n      <td>...</td>\n      <td>...</td>\n      <td>...</td>\n      <td>...</td>\n    </tr>\n    <tr>\n      <th>165</th>\n      <td>27</td>\n      <td>San Antonio</td>\n      <td>Texas</td>\n      <td>TX</td>\n      <td>South</td>\n      <td>West South Central</td>\n      <td>2022-04-02 21:46:04.955818+00:00</td>\n      <td>Eagle National Bank</td>\n      <td>2017-12-24</td>\n      <td>Our loan officer was happy to communicate befo...</td>\n      <td>1</td>\n    </tr>\n    <tr>\n      <th>161</th>\n      <td>26</td>\n      <td>Honolulu</td>\n      <td>Hawaii</td>\n      <td>HI</td>\n      <td>West</td>\n      <td>Pacific</td>\n      <td>2022-04-02 21:46:04.955818+00:00</td>\n      <td>Eagle Capital</td>\n      <td>2013-02-04</td>\n      <td>None</td>\n      <td>1</td>\n    </tr>\n    <tr>\n      <th>159</th>\n      <td>25</td>\n      <td>Wichita</td>\n      <td>Kansas</td>\n      <td>KS</td>\n      <td>Midwest</td>\n      <td>West North Central</td>\n      <td>2022-04-02 21:46:04.955818+00:00</td>\n      <td>Eagle National Mortgage</td>\n      <td>2014-10-10</td>\n      <td>None</td>\n      <td>5</td>\n    </tr>\n    <tr>\n      <th>172</th>\n      <td>28</td>\n      <td>Anchorage</td>\n      <td>Alaska</td>\n      <td>AK</td>\n      <td>West</td>\n      <td>Pacific</td>\n      <td>2022-04-02 21:46:04.955818+00:00</td>\n      <td>Eagle Capital</td>\n      <td>2016-01-23</td>\n      <td>None</td>\n      <td>5</td>\n    </tr>\n    <tr>\n      <th>504</th>\n      <td>77</td>\n      <td>Syracuse</td>\n      <td>New York</td>\n      <td>NY</td>\n      <td>Northeast</td>\n      <td>Middle Atlantic</td>\n      <td>2022-04-02 21:46:04.955818+00:00</td>\n      <td>Eagle National Bank</td>\n      <td>2019-06-12</td>\n      <td>None</td>\n      <td>1</td>\n    </tr>\n  </tbody>\n</table>\n<p>77 rows × 11 columns</p>\n</div>"
     },
     "execution_count": 9,
     "metadata": {},
     "output_type": "execute_result"
    }
   ],
   "source": [
    "store = FeatureStore('feature_repo/')\n",
    "store.get_historical_features(\n",
    "    entity_df = df1,\n",
    "    features = kgfarm.predict_features(df.iloc[3])\n",
    ").to_df()"
   ]
  },
  {
   "cell_type": "code",
   "execution_count": 10,
   "metadata": {
    "pycharm": {
     "name": "#%%\n"
    }
   },
   "outputs": [
    {
     "name": "stdout",
     "output_type": "stream",
     "text": [
      "Materializing \u001B[1m\u001B[32m3\u001B[0m feature views to \u001B[1m\u001B[32m2022-04-20 20:00:00-04:00\u001B[0m into the \u001B[1m\u001B[32msqlite\u001B[0m online store.\r\n",
      "\r\n",
      "\u001B[1m\u001B[32mpredicted_feature_view_2\u001B[0m from \u001B[1m\u001B[32m2003-02-20 04:57:34-05:00\u001B[0m to \u001B[1m\u001B[32m2022-04-20 20:00:00-04:00\u001B[0m:\r\n",
      "100%|█████████████████████████████████████████████████████████| 4500/4500 [00:00<00:00, 8434.90it/s]\r\n",
      "\u001B[1m\u001B[32mpredicted_feature_view_1\u001B[0m from \u001B[1m\u001B[32m2003-02-20 04:57:35-05:00\u001B[0m to \u001B[1m\u001B[32m2022-04-20 20:00:00-04:00\u001B[0m:\r\n",
      "100%|█████████████████████████████████████████████████████████████| 77/77 [00:00<00:00, 6374.07it/s]\r\n",
      "\u001B[1m\u001B[32mpredicted_feature_view_3\u001B[0m from \u001B[1m\u001B[32m2003-02-20 04:57:35-05:00\u001B[0m to \u001B[1m\u001B[32m2022-04-20 20:00:00-04:00\u001B[0m:\r\n",
      "100%|█████████████████████████████████████████████████████████| 3758/3758 [00:00<00:00, 5974.19it/s]\r\n"
     ]
    }
   ],
   "source": [
    "os.chdir('feature_repo/')\n",
    "!feast materialize-incremental 2022-04-21"
   ]
  }
 ],
 "metadata": {
  "kernelspec": {
   "display_name": "Python 3 (ipykernel)",
   "language": "python",
   "name": "python3"
  },
  "language_info": {
   "codemirror_mode": {
    "name": "ipython",
    "version": 3
   },
   "file_extension": ".py",
   "mimetype": "text/x-python",
   "name": "python",
   "nbconvert_exporter": "python",
   "pygments_lexer": "ipython3",
   "version": "3.8.13"
  }
 },
 "nbformat": 4,
 "nbformat_minor": 1
}