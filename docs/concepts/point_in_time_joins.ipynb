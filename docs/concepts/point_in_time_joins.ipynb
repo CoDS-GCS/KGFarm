{
 "cells": [
  {
   "cell_type": "code",
   "execution_count": 22,
   "metadata": {
    "pycharm": {
     "name": "#%%\n"
    }
   },
   "outputs": [
    {
     "name": "stdout",
     "output_type": "stream",
     "text": [
      "Connected to Stardog!\n",
      "Access the Stardog UI at: https://cloud.stardog.com/\n"
     ]
    }
   ],
   "source": [
    "import pandas as pd\n",
    "import sys\n",
    "sys.path.append('../../')\n",
    "\n",
    "from operations.api import KGFarm\n",
    "kgfarm = KGFarm(database='test')"
   ]
  },
  {
   "cell_type": "code",
   "execution_count": 23,
   "metadata": {
    "pycharm": {
     "name": "#%%\n"
    }
   },
   "outputs": [
    {
     "name": "stderr",
     "output_type": "stream",
     "text": [
      "100%|██████████| 7/7 [00:00<00:00, 50.57it/s]\n"
     ]
    },
    {
     "data": {
      "text/plain": "                    Table      Enrich_with Joinability_strength      Join_key  \\\n0      fertility_rate.csv  Feature_view_05                 100%  Country Name   \n1          bank_stats.csv  Feature_view_13                 100%   customer_id   \n2  API_ILO_country_YU.csv  Feature_view_01                 100%  Country Name   \n\n  Physical_joinable_table  \\\n0  API_ILO_country_YU.csv   \n1                bank.csv   \n2      fertility_rate.csv   \n\n                                                                                                  Table_path  \\\n0       /Users/shubhamvashisth/Documents/data/data_lake/world-bank-data-1960-to-2016/data/fertility_rate.csv   \n1                 /Users/shubhamvashisth/Documents/data/data_lake/bank-marketing-dataset/data/bank_stats.csv   \n2  /Users/shubhamvashisth/Documents/data/data_lake/world-bank-youth-unemployment/data/API_ILO_country_YU.csv   \n\n                                                                                                 File_source  \\\n0  /Users/shubhamvashisth/Documents/data/data_lake/world-bank-youth-unemployment/data/API_ILO_country_YU.csv   \n1                       /Users/shubhamvashisth/Documents/data/data_lake/bank-marketing-dataset/data/bank.csv   \n2       /Users/shubhamvashisth/Documents/data/data_lake/world-bank-data-1960-to-2016/data/fertility_rate.csv   \n\n                         Dataset           Dataset_feature_view  \n0   world-bank-data-1960-to-2016  world-bank-youth-unemployment  \n1         bank-marketing-dataset         bank-marketing-dataset  \n2  world-bank-youth-unemployment   world-bank-data-1960-to-2016  ",
      "text/html": "<div>\n<style scoped>\n    .dataframe tbody tr th:only-of-type {\n        vertical-align: middle;\n    }\n\n    .dataframe tbody tr th {\n        vertical-align: top;\n    }\n\n    .dataframe thead th {\n        text-align: right;\n    }\n</style>\n<table border=\"1\" class=\"dataframe\">\n  <thead>\n    <tr style=\"text-align: right;\">\n      <th></th>\n      <th>Table</th>\n      <th>Enrich_with</th>\n      <th>Joinability_strength</th>\n      <th>Join_key</th>\n      <th>Physical_joinable_table</th>\n      <th>Table_path</th>\n      <th>File_source</th>\n      <th>Dataset</th>\n      <th>Dataset_feature_view</th>\n    </tr>\n  </thead>\n  <tbody>\n    <tr>\n      <th>0</th>\n      <td>fertility_rate.csv</td>\n      <td>Feature_view_05</td>\n      <td>100%</td>\n      <td>Country Name</td>\n      <td>API_ILO_country_YU.csv</td>\n      <td>/Users/shubhamvashisth/Documents/data/data_lake/world-bank-data-1960-to-2016/data/fertility_rate.csv</td>\n      <td>/Users/shubhamvashisth/Documents/data/data_lake/world-bank-youth-unemployment/data/API_ILO_country_YU.csv</td>\n      <td>world-bank-data-1960-to-2016</td>\n      <td>world-bank-youth-unemployment</td>\n    </tr>\n    <tr>\n      <th>1</th>\n      <td>bank_stats.csv</td>\n      <td>Feature_view_13</td>\n      <td>100%</td>\n      <td>customer_id</td>\n      <td>bank.csv</td>\n      <td>/Users/shubhamvashisth/Documents/data/data_lake/bank-marketing-dataset/data/bank_stats.csv</td>\n      <td>/Users/shubhamvashisth/Documents/data/data_lake/bank-marketing-dataset/data/bank.csv</td>\n      <td>bank-marketing-dataset</td>\n      <td>bank-marketing-dataset</td>\n    </tr>\n    <tr>\n      <th>2</th>\n      <td>API_ILO_country_YU.csv</td>\n      <td>Feature_view_01</td>\n      <td>100%</td>\n      <td>Country Name</td>\n      <td>fertility_rate.csv</td>\n      <td>/Users/shubhamvashisth/Documents/data/data_lake/world-bank-youth-unemployment/data/API_ILO_country_YU.csv</td>\n      <td>/Users/shubhamvashisth/Documents/data/data_lake/world-bank-data-1960-to-2016/data/fertility_rate.csv</td>\n      <td>world-bank-youth-unemployment</td>\n      <td>world-bank-data-1960-to-2016</td>\n    </tr>\n  </tbody>\n</table>\n</div>"
     },
     "execution_count": 23,
     "metadata": {},
     "output_type": "execute_result"
    }
   ],
   "source": [
    "enrichment_info = kgfarm.get_enrichable_tables()\n",
    "enrichment_info"
   ]
  },
  {
   "cell_type": "code",
   "execution_count": 24,
   "outputs": [
    {
     "name": "stdout",
     "output_type": "stream",
     "text": [
      "entity dataframe:  bank_stats.csv\n"
     ]
    },
    {
     "data": {
      "text/plain": "      customer_id  age  balance  day  duration  campaign  pdays  previous  \\\n0         C_07196   31        0   30       745        12     -1         0   \n1         C_07460   46     -563   15       769         4     -1         0   \n2         C_10590   30     1165    4       204         2    183         3   \n3         C_09086   35      719   18      1359         3    368         3   \n4         C_18071   25       50    5       342         1     -1         0   \n...           ...  ...      ...  ...       ...       ...    ...       ...   \n12157     C_17341   30      285    5       693         2     -1         0   \n12158     C_15214   46     2499   16        42         3     -1         0   \n12159     C_10702   31     2907   12       248         1    194         3   \n12160     C_12027   26      -11   17      1150         3     -1         0   \n12161     C_10395   33      562    6       196         1    363         1   \n\n      deposit             event_timestamp  \n0         yes  2022-07-22 00:03:20.612404  \n1         yes  2022-07-22 00:03:24.612404  \n2         yes  2022-07-22 00:04:09.612404  \n3         yes  2022-07-22 00:04:15.612404  \n4          no  2022-07-22 00:06:27.612404  \n...       ...                         ...  \n12157      no  2022-08-01 23:58:37.612404  \n12158      no  2022-08-01 23:58:44.612404  \n12159     yes  2022-08-01 23:59:09.612404  \n12160     yes  2022-08-01 23:59:15.612404  \n12161     yes  2022-08-01 23:59:22.612404  \n\n[12162 rows x 10 columns]",
      "text/html": "<div>\n<style scoped>\n    .dataframe tbody tr th:only-of-type {\n        vertical-align: middle;\n    }\n\n    .dataframe tbody tr th {\n        vertical-align: top;\n    }\n\n    .dataframe thead th {\n        text-align: right;\n    }\n</style>\n<table border=\"1\" class=\"dataframe\">\n  <thead>\n    <tr style=\"text-align: right;\">\n      <th></th>\n      <th>customer_id</th>\n      <th>age</th>\n      <th>balance</th>\n      <th>day</th>\n      <th>duration</th>\n      <th>campaign</th>\n      <th>pdays</th>\n      <th>previous</th>\n      <th>deposit</th>\n      <th>event_timestamp</th>\n    </tr>\n  </thead>\n  <tbody>\n    <tr>\n      <th>0</th>\n      <td>C_07196</td>\n      <td>31</td>\n      <td>0</td>\n      <td>30</td>\n      <td>745</td>\n      <td>12</td>\n      <td>-1</td>\n      <td>0</td>\n      <td>yes</td>\n      <td>2022-07-22 00:03:20.612404</td>\n    </tr>\n    <tr>\n      <th>1</th>\n      <td>C_07460</td>\n      <td>46</td>\n      <td>-563</td>\n      <td>15</td>\n      <td>769</td>\n      <td>4</td>\n      <td>-1</td>\n      <td>0</td>\n      <td>yes</td>\n      <td>2022-07-22 00:03:24.612404</td>\n    </tr>\n    <tr>\n      <th>2</th>\n      <td>C_10590</td>\n      <td>30</td>\n      <td>1165</td>\n      <td>4</td>\n      <td>204</td>\n      <td>2</td>\n      <td>183</td>\n      <td>3</td>\n      <td>yes</td>\n      <td>2022-07-22 00:04:09.612404</td>\n    </tr>\n    <tr>\n      <th>3</th>\n      <td>C_09086</td>\n      <td>35</td>\n      <td>719</td>\n      <td>18</td>\n      <td>1359</td>\n      <td>3</td>\n      <td>368</td>\n      <td>3</td>\n      <td>yes</td>\n      <td>2022-07-22 00:04:15.612404</td>\n    </tr>\n    <tr>\n      <th>4</th>\n      <td>C_18071</td>\n      <td>25</td>\n      <td>50</td>\n      <td>5</td>\n      <td>342</td>\n      <td>1</td>\n      <td>-1</td>\n      <td>0</td>\n      <td>no</td>\n      <td>2022-07-22 00:06:27.612404</td>\n    </tr>\n    <tr>\n      <th>...</th>\n      <td>...</td>\n      <td>...</td>\n      <td>...</td>\n      <td>...</td>\n      <td>...</td>\n      <td>...</td>\n      <td>...</td>\n      <td>...</td>\n      <td>...</td>\n      <td>...</td>\n    </tr>\n    <tr>\n      <th>12157</th>\n      <td>C_17341</td>\n      <td>30</td>\n      <td>285</td>\n      <td>5</td>\n      <td>693</td>\n      <td>2</td>\n      <td>-1</td>\n      <td>0</td>\n      <td>no</td>\n      <td>2022-08-01 23:58:37.612404</td>\n    </tr>\n    <tr>\n      <th>12158</th>\n      <td>C_15214</td>\n      <td>46</td>\n      <td>2499</td>\n      <td>16</td>\n      <td>42</td>\n      <td>3</td>\n      <td>-1</td>\n      <td>0</td>\n      <td>no</td>\n      <td>2022-08-01 23:58:44.612404</td>\n    </tr>\n    <tr>\n      <th>12159</th>\n      <td>C_10702</td>\n      <td>31</td>\n      <td>2907</td>\n      <td>12</td>\n      <td>248</td>\n      <td>1</td>\n      <td>194</td>\n      <td>3</td>\n      <td>yes</td>\n      <td>2022-08-01 23:59:09.612404</td>\n    </tr>\n    <tr>\n      <th>12160</th>\n      <td>C_12027</td>\n      <td>26</td>\n      <td>-11</td>\n      <td>17</td>\n      <td>1150</td>\n      <td>3</td>\n      <td>-1</td>\n      <td>0</td>\n      <td>yes</td>\n      <td>2022-08-01 23:59:15.612404</td>\n    </tr>\n    <tr>\n      <th>12161</th>\n      <td>C_10395</td>\n      <td>33</td>\n      <td>562</td>\n      <td>6</td>\n      <td>196</td>\n      <td>1</td>\n      <td>363</td>\n      <td>1</td>\n      <td>yes</td>\n      <td>2022-08-01 23:59:22.612404</td>\n    </tr>\n  </tbody>\n</table>\n<p>12162 rows × 10 columns</p>\n</div>"
     },
     "execution_count": 24,
     "metadata": {},
     "output_type": "execute_result"
    }
   ],
   "source": [
    "entity_df = pd.read_csv(enrichment_info.iloc[1].Table_path)\n",
    "print('entity dataframe: ', enrichment_info.iloc[1].Table)\n",
    "entity_df"
   ],
   "metadata": {
    "collapsed": false,
    "pycharm": {
     "name": "#%%\n"
    }
   }
  },
  {
   "cell_type": "code",
   "execution_count": 25,
   "outputs": [
    {
     "name": "stdout",
     "output_type": "stream",
     "text": [
      "Feature view: Feature_view_13 (bank.csv)\n"
     ]
    },
    {
     "data": {
      "text/plain": "      customer_id          job   marital  education default  housing loan  \\\n0         C_12401   management   married   tertiary      no        0   no   \n1         C_14806  blue-collar  divorced  secondary      no        1   no   \n2         C_13651      retired   married    primary      no        0  yes   \n3         C_14681  blue-collar  divorced    primary      no        1   no   \n4         C_11426       admin.    single  secondary      no        1   no   \n...           ...          ...       ...        ...     ...      ...  ...   \n11157     C_14804  blue-collar   married    primary      no        1   no   \n11158     C_15429   management    single   tertiary      no        0   no   \n11159     C_17372   management   married   tertiary     yes        0  yes   \n11160     C_08463       admin.    single  secondary      no        1   no   \n11161     C_16351   technician   married  secondary      no        0   no   \n\n         contact month poutcome             event_timestamp  \n0       cellular   aug  unknown  2022-07-22 00:00:22.445240  \n1        unknown   may  unknown  2022-07-22 00:03:09.445240  \n2       cellular   jul  unknown  2022-07-22 00:05:43.445240  \n3        unknown   jun  unknown  2022-07-22 00:06:24.445240  \n4       cellular   jun  success  2022-07-22 00:06:32.445240  \n...          ...   ...      ...                         ...  \n11157    unknown   may  unknown  2022-08-01 23:56:58.445240  \n11158   cellular   aug  unknown  2022-08-01 23:57:29.445240  \n11159   cellular   jul  unknown  2022-08-01 23:57:57.445240  \n11160   cellular   apr  failure  2022-08-01 23:58:34.445240  \n11161  telephone   feb  unknown  2022-08-01 23:59:13.445240  \n\n[11162 rows x 11 columns]",
      "text/html": "<div>\n<style scoped>\n    .dataframe tbody tr th:only-of-type {\n        vertical-align: middle;\n    }\n\n    .dataframe tbody tr th {\n        vertical-align: top;\n    }\n\n    .dataframe thead th {\n        text-align: right;\n    }\n</style>\n<table border=\"1\" class=\"dataframe\">\n  <thead>\n    <tr style=\"text-align: right;\">\n      <th></th>\n      <th>customer_id</th>\n      <th>job</th>\n      <th>marital</th>\n      <th>education</th>\n      <th>default</th>\n      <th>housing</th>\n      <th>loan</th>\n      <th>contact</th>\n      <th>month</th>\n      <th>poutcome</th>\n      <th>event_timestamp</th>\n    </tr>\n  </thead>\n  <tbody>\n    <tr>\n      <th>0</th>\n      <td>C_12401</td>\n      <td>management</td>\n      <td>married</td>\n      <td>tertiary</td>\n      <td>no</td>\n      <td>0</td>\n      <td>no</td>\n      <td>cellular</td>\n      <td>aug</td>\n      <td>unknown</td>\n      <td>2022-07-22 00:00:22.445240</td>\n    </tr>\n    <tr>\n      <th>1</th>\n      <td>C_14806</td>\n      <td>blue-collar</td>\n      <td>divorced</td>\n      <td>secondary</td>\n      <td>no</td>\n      <td>1</td>\n      <td>no</td>\n      <td>unknown</td>\n      <td>may</td>\n      <td>unknown</td>\n      <td>2022-07-22 00:03:09.445240</td>\n    </tr>\n    <tr>\n      <th>2</th>\n      <td>C_13651</td>\n      <td>retired</td>\n      <td>married</td>\n      <td>primary</td>\n      <td>no</td>\n      <td>0</td>\n      <td>yes</td>\n      <td>cellular</td>\n      <td>jul</td>\n      <td>unknown</td>\n      <td>2022-07-22 00:05:43.445240</td>\n    </tr>\n    <tr>\n      <th>3</th>\n      <td>C_14681</td>\n      <td>blue-collar</td>\n      <td>divorced</td>\n      <td>primary</td>\n      <td>no</td>\n      <td>1</td>\n      <td>no</td>\n      <td>unknown</td>\n      <td>jun</td>\n      <td>unknown</td>\n      <td>2022-07-22 00:06:24.445240</td>\n    </tr>\n    <tr>\n      <th>4</th>\n      <td>C_11426</td>\n      <td>admin.</td>\n      <td>single</td>\n      <td>secondary</td>\n      <td>no</td>\n      <td>1</td>\n      <td>no</td>\n      <td>cellular</td>\n      <td>jun</td>\n      <td>success</td>\n      <td>2022-07-22 00:06:32.445240</td>\n    </tr>\n    <tr>\n      <th>...</th>\n      <td>...</td>\n      <td>...</td>\n      <td>...</td>\n      <td>...</td>\n      <td>...</td>\n      <td>...</td>\n      <td>...</td>\n      <td>...</td>\n      <td>...</td>\n      <td>...</td>\n      <td>...</td>\n    </tr>\n    <tr>\n      <th>11157</th>\n      <td>C_14804</td>\n      <td>blue-collar</td>\n      <td>married</td>\n      <td>primary</td>\n      <td>no</td>\n      <td>1</td>\n      <td>no</td>\n      <td>unknown</td>\n      <td>may</td>\n      <td>unknown</td>\n      <td>2022-08-01 23:56:58.445240</td>\n    </tr>\n    <tr>\n      <th>11158</th>\n      <td>C_15429</td>\n      <td>management</td>\n      <td>single</td>\n      <td>tertiary</td>\n      <td>no</td>\n      <td>0</td>\n      <td>no</td>\n      <td>cellular</td>\n      <td>aug</td>\n      <td>unknown</td>\n      <td>2022-08-01 23:57:29.445240</td>\n    </tr>\n    <tr>\n      <th>11159</th>\n      <td>C_17372</td>\n      <td>management</td>\n      <td>married</td>\n      <td>tertiary</td>\n      <td>yes</td>\n      <td>0</td>\n      <td>yes</td>\n      <td>cellular</td>\n      <td>jul</td>\n      <td>unknown</td>\n      <td>2022-08-01 23:57:57.445240</td>\n    </tr>\n    <tr>\n      <th>11160</th>\n      <td>C_08463</td>\n      <td>admin.</td>\n      <td>single</td>\n      <td>secondary</td>\n      <td>no</td>\n      <td>1</td>\n      <td>no</td>\n      <td>cellular</td>\n      <td>apr</td>\n      <td>failure</td>\n      <td>2022-08-01 23:58:34.445240</td>\n    </tr>\n    <tr>\n      <th>11161</th>\n      <td>C_16351</td>\n      <td>technician</td>\n      <td>married</td>\n      <td>secondary</td>\n      <td>no</td>\n      <td>0</td>\n      <td>no</td>\n      <td>telephone</td>\n      <td>feb</td>\n      <td>unknown</td>\n      <td>2022-08-01 23:59:13.445240</td>\n    </tr>\n  </tbody>\n</table>\n<p>11162 rows × 11 columns</p>\n</div>"
     },
     "execution_count": 25,
     "metadata": {},
     "output_type": "execute_result"
    }
   ],
   "source": [
    "feature_view = pd.read_csv(enrichment_info.iloc[1].File_source)\n",
    "print('Feature view: {} ({})'.format(enrichment_info.iloc[1].Enrich_with, \n",
    "                                     enrichment_info.iloc[1].Physical_joinable_table))\n",
    "feature_view"
   ],
   "metadata": {
    "collapsed": false,
    "pycharm": {
     "name": "#%%\n"
    }
   }
  },
  {
   "cell_type": "code",
   "execution_count": 26,
   "outputs": [
    {
     "name": "stdout",
     "output_type": "stream",
     "text": [
      "Enriching bank_stats.csv with 9 feature(s) ['education', 'job', 'marital', 'contact', 'loan', 'month', 'poutcome', 'default', 'housing']\n"
     ]
    },
    {
     "name": "stderr",
     "output_type": "stream",
     "text": [
      "100%|██████████| 11162/11162 [00:12<00:00, 896.37it/s] \n"
     ]
    },
    {
     "data": {
      "text/plain": "                 event_timestamp customer_id  age  balance  day  duration  \\\n0     2022-07-24 14:13:00.612404     C_07000   59     2343    5      1042   \n1     2022-08-01 07:33:04.612404     C_07001   56       45    5      1467   \n2     2022-07-30 20:38:18.612404     C_07003   55     2476    5       579   \n3     2022-07-26 14:40:21.612404     C_07010   38      100    7       786   \n4     2022-07-30 15:29:44.612404     C_07013   46      460    7      1102   \n...                          ...         ...  ...      ...  ...       ...   \n3888  2022-07-26 21:02:07.612404     C_18153   43       35    9       208   \n3889  2022-07-30 16:56:33.612404     C_18155   35       80   21        38   \n3890  2022-07-31 01:55:06.612404     C_18157   33        1   20       257   \n3891  2022-07-25 10:38:12.612404     C_18159   32       29   19       156   \n3892  2022-07-25 06:57:28.612404     C_18160   43        0    8         9   \n\n      campaign  pdays  previous deposit  education          job  marital  \\\n0            1     -1         0     yes  secondary       admin.  married   \n1            1     -1         0     yes  secondary       admin.  married   \n2            1     -1         0     yes  secondary     services  married   \n3            1     -1         0     yes  secondary       admin.   single   \n4            2     -1         0     yes   tertiary  blue-collar   single   \n...        ...    ...       ...     ...        ...          ...      ...   \n3888         1     -1         0      no  secondary       admin.   single   \n3889         2    172         2      no  secondary  blue-collar  married   \n3890         1     -1         0      no    primary  blue-collar   single   \n3891         2     -1         0      no  secondary   technician   single   \n3892         2    172         5      no  secondary   technician  married   \n\n        contact loan month poutcome default  housing  \n0       unknown   no   may  unknown      no        1  \n1       unknown   no   may  unknown      no        0  \n2       unknown   no   may  unknown      no        1  \n3       unknown   no   may  unknown      no        1  \n4       unknown   no   may  unknown      no        1  \n...         ...  ...   ...      ...     ...      ...  \n3888  telephone   no   nov  unknown      no        0  \n3889   cellular  yes   nov  failure      no        1  \n3890   cellular   no   apr  unknown      no        1  \n3891   cellular   no   aug  unknown      no        0  \n3892   cellular  yes   may  failure      no        0  \n\n[3893 rows x 19 columns]",
      "text/html": "<div>\n<style scoped>\n    .dataframe tbody tr th:only-of-type {\n        vertical-align: middle;\n    }\n\n    .dataframe tbody tr th {\n        vertical-align: top;\n    }\n\n    .dataframe thead th {\n        text-align: right;\n    }\n</style>\n<table border=\"1\" class=\"dataframe\">\n  <thead>\n    <tr style=\"text-align: right;\">\n      <th></th>\n      <th>event_timestamp</th>\n      <th>customer_id</th>\n      <th>age</th>\n      <th>balance</th>\n      <th>day</th>\n      <th>duration</th>\n      <th>campaign</th>\n      <th>pdays</th>\n      <th>previous</th>\n      <th>deposit</th>\n      <th>education</th>\n      <th>job</th>\n      <th>marital</th>\n      <th>contact</th>\n      <th>loan</th>\n      <th>month</th>\n      <th>poutcome</th>\n      <th>default</th>\n      <th>housing</th>\n    </tr>\n  </thead>\n  <tbody>\n    <tr>\n      <th>0</th>\n      <td>2022-07-24 14:13:00.612404</td>\n      <td>C_07000</td>\n      <td>59</td>\n      <td>2343</td>\n      <td>5</td>\n      <td>1042</td>\n      <td>1</td>\n      <td>-1</td>\n      <td>0</td>\n      <td>yes</td>\n      <td>secondary</td>\n      <td>admin.</td>\n      <td>married</td>\n      <td>unknown</td>\n      <td>no</td>\n      <td>may</td>\n      <td>unknown</td>\n      <td>no</td>\n      <td>1</td>\n    </tr>\n    <tr>\n      <th>1</th>\n      <td>2022-08-01 07:33:04.612404</td>\n      <td>C_07001</td>\n      <td>56</td>\n      <td>45</td>\n      <td>5</td>\n      <td>1467</td>\n      <td>1</td>\n      <td>-1</td>\n      <td>0</td>\n      <td>yes</td>\n      <td>secondary</td>\n      <td>admin.</td>\n      <td>married</td>\n      <td>unknown</td>\n      <td>no</td>\n      <td>may</td>\n      <td>unknown</td>\n      <td>no</td>\n      <td>0</td>\n    </tr>\n    <tr>\n      <th>2</th>\n      <td>2022-07-30 20:38:18.612404</td>\n      <td>C_07003</td>\n      <td>55</td>\n      <td>2476</td>\n      <td>5</td>\n      <td>579</td>\n      <td>1</td>\n      <td>-1</td>\n      <td>0</td>\n      <td>yes</td>\n      <td>secondary</td>\n      <td>services</td>\n      <td>married</td>\n      <td>unknown</td>\n      <td>no</td>\n      <td>may</td>\n      <td>unknown</td>\n      <td>no</td>\n      <td>1</td>\n    </tr>\n    <tr>\n      <th>3</th>\n      <td>2022-07-26 14:40:21.612404</td>\n      <td>C_07010</td>\n      <td>38</td>\n      <td>100</td>\n      <td>7</td>\n      <td>786</td>\n      <td>1</td>\n      <td>-1</td>\n      <td>0</td>\n      <td>yes</td>\n      <td>secondary</td>\n      <td>admin.</td>\n      <td>single</td>\n      <td>unknown</td>\n      <td>no</td>\n      <td>may</td>\n      <td>unknown</td>\n      <td>no</td>\n      <td>1</td>\n    </tr>\n    <tr>\n      <th>4</th>\n      <td>2022-07-30 15:29:44.612404</td>\n      <td>C_07013</td>\n      <td>46</td>\n      <td>460</td>\n      <td>7</td>\n      <td>1102</td>\n      <td>2</td>\n      <td>-1</td>\n      <td>0</td>\n      <td>yes</td>\n      <td>tertiary</td>\n      <td>blue-collar</td>\n      <td>single</td>\n      <td>unknown</td>\n      <td>no</td>\n      <td>may</td>\n      <td>unknown</td>\n      <td>no</td>\n      <td>1</td>\n    </tr>\n    <tr>\n      <th>...</th>\n      <td>...</td>\n      <td>...</td>\n      <td>...</td>\n      <td>...</td>\n      <td>...</td>\n      <td>...</td>\n      <td>...</td>\n      <td>...</td>\n      <td>...</td>\n      <td>...</td>\n      <td>...</td>\n      <td>...</td>\n      <td>...</td>\n      <td>...</td>\n      <td>...</td>\n      <td>...</td>\n      <td>...</td>\n      <td>...</td>\n      <td>...</td>\n    </tr>\n    <tr>\n      <th>3888</th>\n      <td>2022-07-26 21:02:07.612404</td>\n      <td>C_18153</td>\n      <td>43</td>\n      <td>35</td>\n      <td>9</td>\n      <td>208</td>\n      <td>1</td>\n      <td>-1</td>\n      <td>0</td>\n      <td>no</td>\n      <td>secondary</td>\n      <td>admin.</td>\n      <td>single</td>\n      <td>telephone</td>\n      <td>no</td>\n      <td>nov</td>\n      <td>unknown</td>\n      <td>no</td>\n      <td>0</td>\n    </tr>\n    <tr>\n      <th>3889</th>\n      <td>2022-07-30 16:56:33.612404</td>\n      <td>C_18155</td>\n      <td>35</td>\n      <td>80</td>\n      <td>21</td>\n      <td>38</td>\n      <td>2</td>\n      <td>172</td>\n      <td>2</td>\n      <td>no</td>\n      <td>secondary</td>\n      <td>blue-collar</td>\n      <td>married</td>\n      <td>cellular</td>\n      <td>yes</td>\n      <td>nov</td>\n      <td>failure</td>\n      <td>no</td>\n      <td>1</td>\n    </tr>\n    <tr>\n      <th>3890</th>\n      <td>2022-07-31 01:55:06.612404</td>\n      <td>C_18157</td>\n      <td>33</td>\n      <td>1</td>\n      <td>20</td>\n      <td>257</td>\n      <td>1</td>\n      <td>-1</td>\n      <td>0</td>\n      <td>no</td>\n      <td>primary</td>\n      <td>blue-collar</td>\n      <td>single</td>\n      <td>cellular</td>\n      <td>no</td>\n      <td>apr</td>\n      <td>unknown</td>\n      <td>no</td>\n      <td>1</td>\n    </tr>\n    <tr>\n      <th>3891</th>\n      <td>2022-07-25 10:38:12.612404</td>\n      <td>C_18159</td>\n      <td>32</td>\n      <td>29</td>\n      <td>19</td>\n      <td>156</td>\n      <td>2</td>\n      <td>-1</td>\n      <td>0</td>\n      <td>no</td>\n      <td>secondary</td>\n      <td>technician</td>\n      <td>single</td>\n      <td>cellular</td>\n      <td>no</td>\n      <td>aug</td>\n      <td>unknown</td>\n      <td>no</td>\n      <td>0</td>\n    </tr>\n    <tr>\n      <th>3892</th>\n      <td>2022-07-25 06:57:28.612404</td>\n      <td>C_18160</td>\n      <td>43</td>\n      <td>0</td>\n      <td>8</td>\n      <td>9</td>\n      <td>2</td>\n      <td>172</td>\n      <td>5</td>\n      <td>no</td>\n      <td>secondary</td>\n      <td>technician</td>\n      <td>married</td>\n      <td>cellular</td>\n      <td>yes</td>\n      <td>may</td>\n      <td>failure</td>\n      <td>no</td>\n      <td>0</td>\n    </tr>\n  </tbody>\n</table>\n<p>3893 rows × 19 columns</p>\n</div>"
     },
     "execution_count": 26,
     "metadata": {},
     "output_type": "execute_result"
    }
   ],
   "source": [
    "kgfarm.enrich(enrichment_info.iloc[1], ttl=5)"
   ],
   "metadata": {
    "collapsed": false,
    "pycharm": {
     "name": "#%%\n"
    }
   }
  }
 ],
 "metadata": {
  "kernelspec": {
   "display_name": "Python 3 (ipykernel)",
   "language": "python",
   "name": "python3"
  },
  "language_info": {
   "codemirror_mode": {
    "name": "ipython",
    "version": 3
   },
   "file_extension": ".py",
   "mimetype": "text/x-python",
   "name": "python",
   "nbconvert_exporter": "python",
   "pygments_lexer": "ipython3",
   "version": "3.8.13"
  }
 },
 "nbformat": 4,
 "nbformat_minor": 1
}